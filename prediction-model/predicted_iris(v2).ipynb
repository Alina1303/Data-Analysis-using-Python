{
  "nbformat": 4,
  "nbformat_minor": 0,
  "metadata": {
    "colab": {
      "provenance": []
    },
    "kernelspec": {
      "name": "python3",
      "display_name": "Python 3"
    },
    "language_info": {
      "name": "python"
    }
  },
  "cells": [
    {
      "cell_type": "markdown",
      "source": [
        "***Предсказание принадлежности к виду (датасет Iris)***"
      ],
      "metadata": {
        "id": "kF-bqHRU86mC"
      }
    },
    {
      "cell_type": "markdown",
      "source": [
        "**Загрузка библиотек**"
      ],
      "metadata": {
        "id": "i8ixDruJn8Ll"
      }
    },
    {
      "cell_type": "code",
      "execution_count": 1,
      "metadata": {
        "id": "or7f_0V3G53C"
      },
      "outputs": [],
      "source": [
        "import pandas as pd\n",
        "from sklearn.model_selection import train_test_split\n",
        "from sklearn.model_selection import RandomizedSearchCV\n",
        "from sklearn.tree import DecisionTreeClassifier\n",
        "from sklearn.datasets import load_iris"
      ]
    },
    {
      "cell_type": "markdown",
      "source": [
        "**Загрузка датасета**"
      ],
      "metadata": {
        "id": "9atMCeKnoAKm"
      }
    },
    {
      "cell_type": "code",
      "source": [
        "iris = load_iris()\n",
        "X = iris.data\n",
        "y = iris.target"
      ],
      "metadata": {
        "id": "6LpCUZP1njYx"
      },
      "execution_count": 2,
      "outputs": []
    },
    {
      "cell_type": "markdown",
      "source": [
        "**Разделение данных на тестовые и тренировочные**"
      ],
      "metadata": {
        "id": "uKmPZk3HoCaM"
      }
    },
    {
      "cell_type": "code",
      "source": [
        "X_train, X_test, y_train, y_test = train_test_split(X, y, test_size=0.25)"
      ],
      "metadata": {
        "id": "lpiaz2jboEsm"
      },
      "execution_count": 3,
      "outputs": []
    },
    {
      "cell_type": "markdown",
      "source": [
        "**Обучение модели и поиск наилучших параметров для модели**"
      ],
      "metadata": {
        "id": "57YdKqKTomCN"
      }
    },
    {
      "cell_type": "code",
      "source": [
        "dt = DecisionTreeClassifier()\n",
        "parametrs = {'criterion': ['entropy'],\n",
        "             'max_depth': range(1,10),\n",
        "             'min_samples_split': range(2,10),\n",
        "             'min_samples_leaf': range(1,10)}\n",
        "search = RandomizedSearchCV(dt, parametrs)\n",
        "search.fit(X_train, y_train)"
      ],
      "metadata": {
        "colab": {
          "base_uri": "https://localhost:8080/"
        },
        "id": "EWcHp-3tonpq",
        "outputId": "7557f7c0-bdf5-40d6-c9e3-818d1f62a866"
      },
      "execution_count": 4,
      "outputs": [
        {
          "output_type": "execute_result",
          "data": {
            "text/plain": [
              "RandomizedSearchCV(estimator=DecisionTreeClassifier(),\n",
              "                   param_distributions={'criterion': ['entropy'],\n",
              "                                        'max_depth': range(1, 10),\n",
              "                                        'min_samples_leaf': range(1, 10),\n",
              "                                        'min_samples_split': range(2, 10)})"
            ]
          },
          "metadata": {},
          "execution_count": 4
        }
      ]
    },
    {
      "cell_type": "code",
      "source": [
        "best_tree = search.best_estimator_\n",
        "best_tree"
      ],
      "metadata": {
        "id": "ENfezZsgWP3e",
        "colab": {
          "base_uri": "https://localhost:8080/"
        },
        "outputId": "de1d02ea-5ae0-4c64-d202-ccfd3c20d5cb"
      },
      "execution_count": 5,
      "outputs": [
        {
          "output_type": "execute_result",
          "data": {
            "text/plain": [
              "DecisionTreeClassifier(criterion='entropy', max_depth=5, min_samples_leaf=3,\n",
              "                       min_samples_split=7)"
            ]
          },
          "metadata": {},
          "execution_count": 5
        }
      ]
    },
    {
      "cell_type": "markdown",
      "source": [
        "**Предсказание**"
      ],
      "metadata": {
        "id": "3p-vDjTR8ndH"
      }
    },
    {
      "cell_type": "markdown",
      "source": [
        "Предсказанные значения"
      ],
      "metadata": {
        "id": "sjwfG6Pf9V-s"
      }
    },
    {
      "cell_type": "code",
      "source": [
        "predicted = best_tree.predict(X_test)\n",
        "predicted"
      ],
      "metadata": {
        "colab": {
          "base_uri": "https://localhost:8080/"
        },
        "id": "rLwkmcoX8pZA",
        "outputId": "18e190c0-eeb2-45d9-f036-394818015d3c"
      },
      "execution_count": 6,
      "outputs": [
        {
          "output_type": "execute_result",
          "data": {
            "text/plain": [
              "array([2, 0, 0, 1, 0, 2, 0, 0, 1, 0, 1, 2, 2, 1, 0, 2, 1, 0, 2, 0, 2, 2,\n",
              "       0, 1, 1, 2, 2, 2, 1, 1, 0, 0, 2, 1, 2, 2, 2, 1])"
            ]
          },
          "metadata": {},
          "execution_count": 6
        }
      ]
    },
    {
      "cell_type": "markdown",
      "source": [
        "Тестовые значения"
      ],
      "metadata": {
        "id": "sjYmE08K9Tvu"
      }
    },
    {
      "cell_type": "code",
      "source": [
        "y_test"
      ],
      "metadata": {
        "colab": {
          "base_uri": "https://localhost:8080/"
        },
        "id": "kkO21fWz8xN6",
        "outputId": "0689f0b2-59df-4015-9f1c-879e7b3ba85c"
      },
      "execution_count": 7,
      "outputs": [
        {
          "output_type": "execute_result",
          "data": {
            "text/plain": [
              "array([2, 0, 0, 1, 0, 1, 0, 0, 1, 0, 1, 1, 2, 1, 0, 1, 1, 0, 2, 0, 1, 2,\n",
              "       0, 1, 1, 2, 2, 2, 1, 1, 0, 0, 2, 1, 2, 2, 2, 1])"
            ]
          },
          "metadata": {},
          "execution_count": 7
        }
      ]
    }
  ]
}