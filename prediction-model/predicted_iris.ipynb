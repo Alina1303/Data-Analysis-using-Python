{
  "nbformat": 4,
  "nbformat_minor": 0,
  "metadata": {
    "colab": {
      "provenance": []
    },
    "kernelspec": {
      "name": "python3",
      "display_name": "Python 3"
    },
    "language_info": {
      "name": "python"
    }
  },
  "cells": [
    {
      "cell_type": "markdown",
      "source": [
        "***Предсказание принадлежности к виду (датасет Iris)***"
      ],
      "metadata": {
        "id": "kF-bqHRU86mC"
      }
    },
    {
      "cell_type": "markdown",
      "source": [
        "**Загрузка библиотек**"
      ],
      "metadata": {
        "id": "i8ixDruJn8Ll"
      }
    },
    {
      "cell_type": "code",
      "execution_count": 1,
      "metadata": {
        "id": "or7f_0V3G53C"
      },
      "outputs": [],
      "source": [
        "import pandas as pd\n",
        "from sklearn.model_selection import train_test_split\n",
        "from sklearn.model_selection import GridSearchCV \n",
        "from sklearn.tree import DecisionTreeClassifier\n",
        "from sklearn.metrics import confusion_matrix\n",
        "from sklearn.datasets import load_iris"
      ]
    },
    {
      "cell_type": "markdown",
      "source": [
        "**Загрузка датасета**"
      ],
      "metadata": {
        "id": "9atMCeKnoAKm"
      }
    },
    {
      "cell_type": "code",
      "source": [
        "iris = load_iris()\n",
        "X = iris.data\n",
        "y = iris.target"
      ],
      "metadata": {
        "id": "6LpCUZP1njYx"
      },
      "execution_count": 2,
      "outputs": []
    },
    {
      "cell_type": "markdown",
      "source": [
        "**Разделение данных на тестовые и тренировочные**"
      ],
      "metadata": {
        "id": "uKmPZk3HoCaM"
      }
    },
    {
      "cell_type": "code",
      "source": [
        "X_train, X_test, y_train, y_test = train_test_split(X, y, test_size=0.25)"
      ],
      "metadata": {
        "id": "lpiaz2jboEsm"
      },
      "execution_count": 3,
      "outputs": []
    },
    {
      "cell_type": "markdown",
      "source": [
        "**Обучение модели и поиск наилучших параметров для модели**"
      ],
      "metadata": {
        "id": "57YdKqKTomCN"
      }
    },
    {
      "cell_type": "code",
      "source": [
        "dt = DecisionTreeClassifier()\n",
        "parametrs = {'criterion': ['entropy'],\n",
        "             'max_depth': range(1,10),\n",
        "             'min_samples_split': range(2,10),\n",
        "             'min_samples_leaf': range(1,10)}\n",
        "search = GridSearchCV (dt, parametrs)\n",
        "search.fit(X_train, y_train)"
      ],
      "metadata": {
        "colab": {
          "base_uri": "https://localhost:8080/"
        },
        "id": "EWcHp-3tonpq",
        "outputId": "77865b56-6c6f-4aa4-8868-cf72497ae084"
      },
      "execution_count": 4,
      "outputs": [
        {
          "output_type": "execute_result",
          "data": {
            "text/plain": [
              "GridSearchCV(estimator=DecisionTreeClassifier(),\n",
              "             param_grid={'criterion': ['entropy'], 'max_depth': range(1, 10),\n",
              "                         'min_samples_leaf': range(1, 10),\n",
              "                         'min_samples_split': range(2, 10)})"
            ]
          },
          "metadata": {},
          "execution_count": 4
        }
      ]
    },
    {
      "cell_type": "code",
      "source": [
        "best_tree = search.best_estimator_\n",
        "best_tree"
      ],
      "metadata": {
        "id": "ENfezZsgWP3e",
        "colab": {
          "base_uri": "https://localhost:8080/"
        },
        "outputId": "00d01d63-36bf-4c5d-ce8e-388a24189f61"
      },
      "execution_count": 5,
      "outputs": [
        {
          "output_type": "execute_result",
          "data": {
            "text/plain": [
              "DecisionTreeClassifier(criterion='entropy', max_depth=5, min_samples_leaf=3)"
            ]
          },
          "metadata": {},
          "execution_count": 5
        }
      ]
    },
    {
      "cell_type": "markdown",
      "source": [
        "**Предсказание**"
      ],
      "metadata": {
        "id": "3p-vDjTR8ndH"
      }
    },
    {
      "cell_type": "markdown",
      "source": [
        "Предсказанные значения"
      ],
      "metadata": {
        "id": "sjwfG6Pf9V-s"
      }
    },
    {
      "cell_type": "code",
      "source": [
        "predicted = best_tree.predict(X_test)\n",
        "predicted"
      ],
      "metadata": {
        "colab": {
          "base_uri": "https://localhost:8080/"
        },
        "id": "rLwkmcoX8pZA",
        "outputId": "3a2be938-5b67-4145-8b51-f9c2c3131c85"
      },
      "execution_count": 6,
      "outputs": [
        {
          "output_type": "execute_result",
          "data": {
            "text/plain": [
              "array([2, 2, 0, 0, 1, 0, 2, 2, 0, 1, 2, 0, 1, 1, 0, 2, 2, 0, 2, 1, 0, 1,\n",
              "       2, 1, 1, 1, 1, 1, 2, 2, 2, 1, 0, 0, 0, 1, 1, 1])"
            ]
          },
          "metadata": {},
          "execution_count": 6
        }
      ]
    },
    {
      "cell_type": "markdown",
      "source": [
        "Тестовые значения"
      ],
      "metadata": {
        "id": "sjYmE08K9Tvu"
      }
    },
    {
      "cell_type": "code",
      "source": [
        "y_test"
      ],
      "metadata": {
        "colab": {
          "base_uri": "https://localhost:8080/"
        },
        "id": "kkO21fWz8xN6",
        "outputId": "20dbc6ed-4dea-4441-d2e4-98254cd92403"
      },
      "execution_count": 7,
      "outputs": [
        {
          "output_type": "execute_result",
          "data": {
            "text/plain": [
              "array([2, 2, 0, 0, 1, 0, 2, 2, 0, 1, 2, 0, 1, 1, 0, 2, 2, 0, 2, 1, 0, 1,\n",
              "       2, 1, 1, 1, 1, 1, 2, 2, 2, 1, 0, 0, 0, 1, 1, 1])"
            ]
          },
          "metadata": {},
          "execution_count": 7
        }
      ]
    },
    {
      "cell_type": "markdown",
      "source": [
        "**Построение confusion matrix**"
      ],
      "metadata": {
        "id": "i0d2uJ6A26eu"
      }
    },
    {
      "cell_type": "code",
      "source": [
        "confusion_matrix(y_test, predicted)"
      ],
      "metadata": {
        "id": "DYeXoVFE29hV",
        "outputId": "be42cba2-fc93-407e-9e0a-7c962681a2b2",
        "colab": {
          "base_uri": "https://localhost:8080/"
        }
      },
      "execution_count": 8,
      "outputs": [
        {
          "output_type": "execute_result",
          "data": {
            "text/plain": [
              "array([[11,  0,  0],\n",
              "       [ 0, 15,  0],\n",
              "       [ 0,  0, 12]])"
            ]
          },
          "metadata": {},
          "execution_count": 8
        }
      ]
    }
  ]
}