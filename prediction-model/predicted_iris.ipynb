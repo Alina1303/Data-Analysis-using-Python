{
  "nbformat": 4,
  "nbformat_minor": 0,
  "metadata": {
    "colab": {
      "provenance": []
    },
    "kernelspec": {
      "name": "python3",
      "display_name": "Python 3"
    },
    "language_info": {
      "name": "python"
    }
  },
  "cells": [
    {
      "cell_type": "markdown",
      "source": [
        "***Предсказание принадлежности к виду (датасет Iris)***"
      ],
      "metadata": {
        "id": "kF-bqHRU86mC"
      }
    },
    {
      "cell_type": "markdown",
      "source": [
        "**Загрузка библиотек**"
      ],
      "metadata": {
        "id": "i8ixDruJn8Ll"
      }
    },
    {
      "cell_type": "code",
      "execution_count": 2,
      "metadata": {
        "id": "or7f_0V3G53C"
      },
      "outputs": [],
      "source": [
        "import pandas as pd\n",
        "from sklearn.model_selection import train_test_split\n",
        "from sklearn.tree import DecisionTreeClassifier\n",
        "from sklearn.datasets import load_iris"
      ]
    },
    {
      "cell_type": "markdown",
      "source": [
        "**Загрузка датасета**"
      ],
      "metadata": {
        "id": "9atMCeKnoAKm"
      }
    },
    {
      "cell_type": "code",
      "source": [
        "iris = load_iris()\n",
        "X = iris.data\n",
        "y = iris.target"
      ],
      "metadata": {
        "id": "6LpCUZP1njYx"
      },
      "execution_count": 3,
      "outputs": []
    },
    {
      "cell_type": "markdown",
      "source": [
        "**Разделение данных на тестовые и тренировочные**"
      ],
      "metadata": {
        "id": "uKmPZk3HoCaM"
      }
    },
    {
      "cell_type": "code",
      "source": [
        "X_train, X_test, y_train, y_test = train_test_split(X, y, test_size=0.25)"
      ],
      "metadata": {
        "id": "lpiaz2jboEsm"
      },
      "execution_count": 4,
      "outputs": []
    },
    {
      "cell_type": "markdown",
      "source": [
        "**Обучение модели и поиск наилучших параметров для модели**"
      ],
      "metadata": {
        "id": "57YdKqKTomCN"
      }
    },
    {
      "cell_type": "code",
      "source": [
        "dt = DecisionTreeClassifier(criterion='entropy')\n",
        "dt.fit(X_train, y_train)"
      ],
      "metadata": {
        "colab": {
          "base_uri": "https://localhost:8080/"
        },
        "id": "EWcHp-3tonpq",
        "outputId": "a99e43e2-19d4-455d-aef3-399724132c41"
      },
      "execution_count": 5,
      "outputs": [
        {
          "output_type": "execute_result",
          "data": {
            "text/plain": [
              "DecisionTreeClassifier(criterion='entropy')"
            ]
          },
          "metadata": {},
          "execution_count": 5
        }
      ]
    },
    {
      "cell_type": "markdown",
      "source": [
        "**Предсказание**"
      ],
      "metadata": {
        "id": "3p-vDjTR8ndH"
      }
    },
    {
      "cell_type": "markdown",
      "source": [
        "Предсказанные значения"
      ],
      "metadata": {
        "id": "sjwfG6Pf9V-s"
      }
    },
    {
      "cell_type": "code",
      "source": [
        "predicted = dt.predict(X_test)\n",
        "predicted"
      ],
      "metadata": {
        "colab": {
          "base_uri": "https://localhost:8080/"
        },
        "id": "rLwkmcoX8pZA",
        "outputId": "7b25552b-9e3a-4ed5-fdd2-7eb5284f07d3"
      },
      "execution_count": 6,
      "outputs": [
        {
          "output_type": "execute_result",
          "data": {
            "text/plain": [
              "array([1, 0, 2, 0, 2, 2, 2, 0, 1, 1, 1, 1, 0, 0, 2, 2, 2, 2, 1, 1, 0, 0,\n",
              "       1, 2, 0, 2, 1, 2, 0, 2, 0, 0, 0, 0, 1, 1, 2, 1])"
            ]
          },
          "metadata": {},
          "execution_count": 6
        }
      ]
    },
    {
      "cell_type": "markdown",
      "source": [
        "Тестовые значения"
      ],
      "metadata": {
        "id": "sjYmE08K9Tvu"
      }
    },
    {
      "cell_type": "code",
      "source": [
        "y_test"
      ],
      "metadata": {
        "colab": {
          "base_uri": "https://localhost:8080/"
        },
        "id": "kkO21fWz8xN6",
        "outputId": "7028bc37-abff-4994-bd9d-c95ddf01dee3"
      },
      "execution_count": 7,
      "outputs": [
        {
          "output_type": "execute_result",
          "data": {
            "text/plain": [
              "array([1, 0, 1, 0, 2, 2, 2, 0, 1, 1, 1, 1, 0, 0, 2, 2, 2, 2, 1, 1, 0, 0,\n",
              "       1, 2, 0, 2, 1, 1, 0, 2, 0, 0, 0, 0, 1, 1, 2, 1])"
            ]
          },
          "metadata": {},
          "execution_count": 7
        }
      ]
    }
  ]
}