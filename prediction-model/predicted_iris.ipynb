{
  "nbformat": 4,
  "nbformat_minor": 0,
  "metadata": {
    "colab": {
      "provenance": []
    },
    "kernelspec": {
      "name": "python3",
      "display_name": "Python 3"
    },
    "language_info": {
      "name": "python"
    }
  },
  "cells": [
    {
      "cell_type": "markdown",
      "source": [
        "***Предсказание принадлежности к виду (датасет Iris)***"
      ],
      "metadata": {
        "id": "kF-bqHRU86mC"
      }
    },
    {
      "cell_type": "markdown",
      "source": [
        "**Загрузка библиотек**"
      ],
      "metadata": {
        "id": "i8ixDruJn8Ll"
      }
    },
    {
      "cell_type": "code",
      "execution_count": 8,
      "metadata": {
        "id": "or7f_0V3G53C"
      },
      "outputs": [],
      "source": [
        "import pandas as pd\n",
        "from sklearn.model_selection import train_test_split\n",
        "from sklearn.model_selection import GridSearchCV\n",
        "from sklearn.tree import DecisionTreeClassifier\n",
        "from sklearn.datasets import load_iris"
      ]
    },
    {
      "cell_type": "markdown",
      "source": [
        "**Загрузка датасета**"
      ],
      "metadata": {
        "id": "9atMCeKnoAKm"
      }
    },
    {
      "cell_type": "code",
      "source": [
        "iris = load_iris()\n",
        "X = iris.data\n",
        "y = iris.target"
      ],
      "metadata": {
        "id": "6LpCUZP1njYx"
      },
      "execution_count": 9,
      "outputs": []
    },
    {
      "cell_type": "markdown",
      "source": [
        "**Разделение данных на тестовые и тренировочные**"
      ],
      "metadata": {
        "id": "uKmPZk3HoCaM"
      }
    },
    {
      "cell_type": "code",
      "source": [
        "X_train, X_test, y_train, y_test = train_test_split(X, y, test_size=0.25)"
      ],
      "metadata": {
        "id": "lpiaz2jboEsm"
      },
      "execution_count": 10,
      "outputs": []
    },
    {
      "cell_type": "markdown",
      "source": [
        "**Обучение модели и поиск наилучших параметров для модели**"
      ],
      "metadata": {
        "id": "57YdKqKTomCN"
      }
    },
    {
      "cell_type": "code",
      "source": [
        "dt = DecisionTreeClassifier()\n",
        "parametrs = {'criterion': ['entropy'],\n",
        "             'max_depth': range(1,10),\n",
        "             'min_samples_split': range(2,10),\n",
        "             'min_samples_leaf': range(1,10)}\n",
        "search = GridSearchCV(dt, parametrs)\n",
        "search.fit(X_train, y_train)"
      ],
      "metadata": {
        "colab": {
          "base_uri": "https://localhost:8080/"
        },
        "id": "EWcHp-3tonpq",
        "outputId": "0d9d5475-e90e-4d9f-de44-7f8cd7123818"
      },
      "execution_count": 11,
      "outputs": [
        {
          "output_type": "execute_result",
          "data": {
            "text/plain": [
              "GridSearchCV(estimator=DecisionTreeClassifier(),\n",
              "             param_grid={'criterion': ['entropy'], 'max_depth': range(1, 10),\n",
              "                         'min_samples_leaf': range(1, 10),\n",
              "                         'min_samples_split': range(2, 10)})"
            ]
          },
          "metadata": {},
          "execution_count": 11
        }
      ]
    },
    {
      "cell_type": "code",
      "source": [
        "best_tree = search.best_estimator_"
      ],
      "metadata": {
        "id": "ENfezZsgWP3e"
      },
      "execution_count": 12,
      "outputs": []
    },
    {
      "cell_type": "markdown",
      "source": [
        "**Предсказание**"
      ],
      "metadata": {
        "id": "3p-vDjTR8ndH"
      }
    },
    {
      "cell_type": "markdown",
      "source": [
        "Предсказанные значения"
      ],
      "metadata": {
        "id": "sjwfG6Pf9V-s"
      }
    },
    {
      "cell_type": "code",
      "source": [
        "predicted = best_tree.predict(X_test)\n",
        "predicted"
      ],
      "metadata": {
        "colab": {
          "base_uri": "https://localhost:8080/"
        },
        "id": "rLwkmcoX8pZA",
        "outputId": "dc248ef3-0562-4a2e-f1b2-bdc5ffc889a3"
      },
      "execution_count": 13,
      "outputs": [
        {
          "output_type": "execute_result",
          "data": {
            "text/plain": [
              "array([0, 0, 0, 1, 1, 0, 0, 0, 0, 0, 0, 0, 0, 0, 0, 1, 2, 0, 2, 1, 2, 0,\n",
              "       1, 2, 1, 1, 0, 1, 1, 2, 0, 2, 2, 2, 1, 0, 0, 1])"
            ]
          },
          "metadata": {},
          "execution_count": 13
        }
      ]
    },
    {
      "cell_type": "markdown",
      "source": [
        "Тестовые значения"
      ],
      "metadata": {
        "id": "sjYmE08K9Tvu"
      }
    },
    {
      "cell_type": "code",
      "source": [
        "y_test"
      ],
      "metadata": {
        "colab": {
          "base_uri": "https://localhost:8080/"
        },
        "id": "kkO21fWz8xN6",
        "outputId": "d298c059-bc7c-43f3-bbb1-96431f64c141"
      },
      "execution_count": 14,
      "outputs": [
        {
          "output_type": "execute_result",
          "data": {
            "text/plain": [
              "array([0, 0, 0, 1, 1, 0, 0, 0, 0, 0, 0, 0, 0, 0, 0, 1, 2, 0, 2, 1, 2, 0,\n",
              "       1, 2, 1, 1, 0, 1, 1, 2, 0, 2, 2, 2, 1, 0, 0, 1])"
            ]
          },
          "metadata": {},
          "execution_count": 14
        }
      ]
    }
  ]
}