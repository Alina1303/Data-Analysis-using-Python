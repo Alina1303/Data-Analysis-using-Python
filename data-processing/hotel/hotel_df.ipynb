{
  "nbformat": 4,
  "nbformat_minor": 0,
  "metadata": {
    "colab": {
      "provenance": [],
      "collapsed_sections": []
    },
    "kernelspec": {
      "name": "python3",
      "display_name": "Python 3"
    },
    "language_info": {
      "name": "python"
    }
  },
  "cells": [
    {
      "cell_type": "markdown",
      "source": [
        "**Загрузка библиотеки**"
      ],
      "metadata": {
        "id": "NGttrPqlmn3O"
      }
    },
    {
      "cell_type": "code",
      "execution_count": 1,
      "metadata": {
        "id": "lzCqVNk5miXx"
      },
      "outputs": [],
      "source": [
        "import pandas as pd"
      ]
    },
    {
      "cell_type": "markdown",
      "source": [
        "**Загрузка датасета**"
      ],
      "metadata": {
        "id": "UiBmr4dnmtNR"
      }
    },
    {
      "cell_type": "markdown",
      "source": [
        "Описание данных:\n",
        "\n",
        "**Hotel** – тип отеля (City Hotel или Resort Hotel)\n",
        "\n",
        "**Is cancele**d – бронирование было отменено (1) или нет (0); неотменённое считается успешным\n",
        "\n",
        "**Lead time** – количество дней, прошедших между датой бронирования и датой прибытия  \n",
        "\n",
        "**Arrival full date** – полная дата прибытия\n",
        "\n",
        "**Arrival date year** – год прибытия  \n",
        "\n",
        "**Arrival date month** – месяц прибытия  \n",
        "\n",
        "**Arrival date week number** – номер недели прибытия\n",
        "\n",
        "**Arrival date day of month** – день прибытия\n",
        "\n",
        "**Stays in weekend nights** – количество выходных (суббота или воскресенье), которые гость забронировал для проживания в отеле\n",
        "\n",
        "**Stays in week nights** – количество дней (с понедельника по пятницу), которые гость забронировал для проживания в отеле\n",
        "\n",
        "**Stays total nights** – общее число забронированных ночей (сумма двух предыдущих колонок)\n",
        "\n",
        "**Adults** – число взрослых\n",
        "\n",
        "**Children** – число детей\n",
        "\n",
        "**Babies** – число младенцев \n",
        "\n",
        "**Meal** – выбранный тип питания\n",
        "\n",
        "**Country** – страна происхождения клиента\n",
        "\n",
        "**Reserved room type** – тип зарезервированного номера\n",
        "\n",
        "**Assigned room type** – тип полученного номера (может отличаться от забронированного)\n",
        "\n",
        "**Customer type** – тип бронирования\n",
        "\n",
        "**Reservation status** – значение последнего статуса брони: \n",
        "  \n",
        "*   *Canceled* – было отменено клиентом;\n",
        "*   *Check-Out* – клиент зарегистрировался, но уже покинул отель; \n",
        "*   *No-Show* – клиент не зарегистрировался и сообщил администрации отеля причину\n",
        "\n",
        "**Reservation status date** – дата обновления статуса"
      ],
      "metadata": {
        "id": "7FrMCCZtuaUS"
      }
    },
    {
      "cell_type": "code",
      "source": [
        "bookings = pd.read_csv('bookings.csv', sep=';')\n",
        "bookings.head()"
      ],
      "metadata": {
        "colab": {
          "base_uri": "https://localhost:8080/",
          "height": 438
        },
        "id": "-DprpFgsmvML",
        "outputId": "644dfff9-77a1-471c-fb3e-454ee16bc1f4"
      },
      "execution_count": 2,
      "outputs": [
        {
          "output_type": "execute_result",
          "data": {
            "text/plain": [
              "          Hotel  Is Canceled  Lead Time arrival full date  Arrival Date Year  \\\n",
              "0  Resort Hotel            0        342        2015-07-01             2015.0   \n",
              "1  Resort Hotel            0        737        2015-07-01             2015.0   \n",
              "2  Resort Hotel            0          7        2015-07-01             2015.0   \n",
              "3  Resort Hotel            0         13        2015-07-01             2015.0   \n",
              "4  Resort Hotel            0         14        2015-07-01             2015.0   \n",
              "\n",
              "  Arrival Date Month  Arrival Date Week Number  Arrival Date Day of Month  \\\n",
              "0               July                      27.0                        1.0   \n",
              "1               July                      27.0                        1.0   \n",
              "2               July                      27.0                        1.0   \n",
              "3               July                      27.0                        1.0   \n",
              "4               July                      27.0                        1.0   \n",
              "\n",
              "   Stays in Weekend nights  Stays in week nights  ...  Adults  Children  \\\n",
              "0                      0.0                   0.0  ...     2.0       0.0   \n",
              "1                      0.0                   0.0  ...     2.0       0.0   \n",
              "2                      0.0                   1.0  ...     1.0       0.0   \n",
              "3                      0.0                   1.0  ...     1.0       0.0   \n",
              "4                      0.0                   2.0  ...     2.0       0.0   \n",
              "\n",
              "   Babies  Meal Country Reserved Room Type Assigned room type customer type  \\\n",
              "0     0.0    BB     PRT                  C                  C     Transient   \n",
              "1     0.0    BB     PRT                  C                  C     Transient   \n",
              "2     0.0    BB     GBR                  A                  C     Transient   \n",
              "3     0.0    BB     GBR                  A                  A     Transient   \n",
              "4     0.0    BB     GBR                  A                  A     Transient   \n",
              "\n",
              "  Reservation Status Reservation status_date  \n",
              "0          Check-Out              2015-07-01  \n",
              "1          Check-Out              2015-07-01  \n",
              "2          Check-Out              2015-07-02  \n",
              "3          Check-Out              2015-07-02  \n",
              "4          Check-Out              2015-07-03  \n",
              "\n",
              "[5 rows x 21 columns]"
            ],
            "text/html": [
              "\n",
              "  <div id=\"df-8c418cc0-3a0a-4e96-a5ba-75e1c0fa211d\">\n",
              "    <div class=\"colab-df-container\">\n",
              "      <div>\n",
              "<style scoped>\n",
              "    .dataframe tbody tr th:only-of-type {\n",
              "        vertical-align: middle;\n",
              "    }\n",
              "\n",
              "    .dataframe tbody tr th {\n",
              "        vertical-align: top;\n",
              "    }\n",
              "\n",
              "    .dataframe thead th {\n",
              "        text-align: right;\n",
              "    }\n",
              "</style>\n",
              "<table border=\"1\" class=\"dataframe\">\n",
              "  <thead>\n",
              "    <tr style=\"text-align: right;\">\n",
              "      <th></th>\n",
              "      <th>Hotel</th>\n",
              "      <th>Is Canceled</th>\n",
              "      <th>Lead Time</th>\n",
              "      <th>arrival full date</th>\n",
              "      <th>Arrival Date Year</th>\n",
              "      <th>Arrival Date Month</th>\n",
              "      <th>Arrival Date Week Number</th>\n",
              "      <th>Arrival Date Day of Month</th>\n",
              "      <th>Stays in Weekend nights</th>\n",
              "      <th>Stays in week nights</th>\n",
              "      <th>...</th>\n",
              "      <th>Adults</th>\n",
              "      <th>Children</th>\n",
              "      <th>Babies</th>\n",
              "      <th>Meal</th>\n",
              "      <th>Country</th>\n",
              "      <th>Reserved Room Type</th>\n",
              "      <th>Assigned room type</th>\n",
              "      <th>customer type</th>\n",
              "      <th>Reservation Status</th>\n",
              "      <th>Reservation status_date</th>\n",
              "    </tr>\n",
              "  </thead>\n",
              "  <tbody>\n",
              "    <tr>\n",
              "      <th>0</th>\n",
              "      <td>Resort Hotel</td>\n",
              "      <td>0</td>\n",
              "      <td>342</td>\n",
              "      <td>2015-07-01</td>\n",
              "      <td>2015.0</td>\n",
              "      <td>July</td>\n",
              "      <td>27.0</td>\n",
              "      <td>1.0</td>\n",
              "      <td>0.0</td>\n",
              "      <td>0.0</td>\n",
              "      <td>...</td>\n",
              "      <td>2.0</td>\n",
              "      <td>0.0</td>\n",
              "      <td>0.0</td>\n",
              "      <td>BB</td>\n",
              "      <td>PRT</td>\n",
              "      <td>C</td>\n",
              "      <td>C</td>\n",
              "      <td>Transient</td>\n",
              "      <td>Check-Out</td>\n",
              "      <td>2015-07-01</td>\n",
              "    </tr>\n",
              "    <tr>\n",
              "      <th>1</th>\n",
              "      <td>Resort Hotel</td>\n",
              "      <td>0</td>\n",
              "      <td>737</td>\n",
              "      <td>2015-07-01</td>\n",
              "      <td>2015.0</td>\n",
              "      <td>July</td>\n",
              "      <td>27.0</td>\n",
              "      <td>1.0</td>\n",
              "      <td>0.0</td>\n",
              "      <td>0.0</td>\n",
              "      <td>...</td>\n",
              "      <td>2.0</td>\n",
              "      <td>0.0</td>\n",
              "      <td>0.0</td>\n",
              "      <td>BB</td>\n",
              "      <td>PRT</td>\n",
              "      <td>C</td>\n",
              "      <td>C</td>\n",
              "      <td>Transient</td>\n",
              "      <td>Check-Out</td>\n",
              "      <td>2015-07-01</td>\n",
              "    </tr>\n",
              "    <tr>\n",
              "      <th>2</th>\n",
              "      <td>Resort Hotel</td>\n",
              "      <td>0</td>\n",
              "      <td>7</td>\n",
              "      <td>2015-07-01</td>\n",
              "      <td>2015.0</td>\n",
              "      <td>July</td>\n",
              "      <td>27.0</td>\n",
              "      <td>1.0</td>\n",
              "      <td>0.0</td>\n",
              "      <td>1.0</td>\n",
              "      <td>...</td>\n",
              "      <td>1.0</td>\n",
              "      <td>0.0</td>\n",
              "      <td>0.0</td>\n",
              "      <td>BB</td>\n",
              "      <td>GBR</td>\n",
              "      <td>A</td>\n",
              "      <td>C</td>\n",
              "      <td>Transient</td>\n",
              "      <td>Check-Out</td>\n",
              "      <td>2015-07-02</td>\n",
              "    </tr>\n",
              "    <tr>\n",
              "      <th>3</th>\n",
              "      <td>Resort Hotel</td>\n",
              "      <td>0</td>\n",
              "      <td>13</td>\n",
              "      <td>2015-07-01</td>\n",
              "      <td>2015.0</td>\n",
              "      <td>July</td>\n",
              "      <td>27.0</td>\n",
              "      <td>1.0</td>\n",
              "      <td>0.0</td>\n",
              "      <td>1.0</td>\n",
              "      <td>...</td>\n",
              "      <td>1.0</td>\n",
              "      <td>0.0</td>\n",
              "      <td>0.0</td>\n",
              "      <td>BB</td>\n",
              "      <td>GBR</td>\n",
              "      <td>A</td>\n",
              "      <td>A</td>\n",
              "      <td>Transient</td>\n",
              "      <td>Check-Out</td>\n",
              "      <td>2015-07-02</td>\n",
              "    </tr>\n",
              "    <tr>\n",
              "      <th>4</th>\n",
              "      <td>Resort Hotel</td>\n",
              "      <td>0</td>\n",
              "      <td>14</td>\n",
              "      <td>2015-07-01</td>\n",
              "      <td>2015.0</td>\n",
              "      <td>July</td>\n",
              "      <td>27.0</td>\n",
              "      <td>1.0</td>\n",
              "      <td>0.0</td>\n",
              "      <td>2.0</td>\n",
              "      <td>...</td>\n",
              "      <td>2.0</td>\n",
              "      <td>0.0</td>\n",
              "      <td>0.0</td>\n",
              "      <td>BB</td>\n",
              "      <td>GBR</td>\n",
              "      <td>A</td>\n",
              "      <td>A</td>\n",
              "      <td>Transient</td>\n",
              "      <td>Check-Out</td>\n",
              "      <td>2015-07-03</td>\n",
              "    </tr>\n",
              "  </tbody>\n",
              "</table>\n",
              "<p>5 rows × 21 columns</p>\n",
              "</div>\n",
              "      <button class=\"colab-df-convert\" onclick=\"convertToInteractive('df-8c418cc0-3a0a-4e96-a5ba-75e1c0fa211d')\"\n",
              "              title=\"Convert this dataframe to an interactive table.\"\n",
              "              style=\"display:none;\">\n",
              "        \n",
              "  <svg xmlns=\"http://www.w3.org/2000/svg\" height=\"24px\"viewBox=\"0 0 24 24\"\n",
              "       width=\"24px\">\n",
              "    <path d=\"M0 0h24v24H0V0z\" fill=\"none\"/>\n",
              "    <path d=\"M18.56 5.44l.94 2.06.94-2.06 2.06-.94-2.06-.94-.94-2.06-.94 2.06-2.06.94zm-11 1L8.5 8.5l.94-2.06 2.06-.94-2.06-.94L8.5 2.5l-.94 2.06-2.06.94zm10 10l.94 2.06.94-2.06 2.06-.94-2.06-.94-.94-2.06-.94 2.06-2.06.94z\"/><path d=\"M17.41 7.96l-1.37-1.37c-.4-.4-.92-.59-1.43-.59-.52 0-1.04.2-1.43.59L10.3 9.45l-7.72 7.72c-.78.78-.78 2.05 0 2.83L4 21.41c.39.39.9.59 1.41.59.51 0 1.02-.2 1.41-.59l7.78-7.78 2.81-2.81c.8-.78.8-2.07 0-2.86zM5.41 20L4 18.59l7.72-7.72 1.47 1.35L5.41 20z\"/>\n",
              "  </svg>\n",
              "      </button>\n",
              "      \n",
              "  <style>\n",
              "    .colab-df-container {\n",
              "      display:flex;\n",
              "      flex-wrap:wrap;\n",
              "      gap: 12px;\n",
              "    }\n",
              "\n",
              "    .colab-df-convert {\n",
              "      background-color: #E8F0FE;\n",
              "      border: none;\n",
              "      border-radius: 50%;\n",
              "      cursor: pointer;\n",
              "      display: none;\n",
              "      fill: #1967D2;\n",
              "      height: 32px;\n",
              "      padding: 0 0 0 0;\n",
              "      width: 32px;\n",
              "    }\n",
              "\n",
              "    .colab-df-convert:hover {\n",
              "      background-color: #E2EBFA;\n",
              "      box-shadow: 0px 1px 2px rgba(60, 64, 67, 0.3), 0px 1px 3px 1px rgba(60, 64, 67, 0.15);\n",
              "      fill: #174EA6;\n",
              "    }\n",
              "\n",
              "    [theme=dark] .colab-df-convert {\n",
              "      background-color: #3B4455;\n",
              "      fill: #D2E3FC;\n",
              "    }\n",
              "\n",
              "    [theme=dark] .colab-df-convert:hover {\n",
              "      background-color: #434B5C;\n",
              "      box-shadow: 0px 1px 3px 1px rgba(0, 0, 0, 0.15);\n",
              "      filter: drop-shadow(0px 1px 2px rgba(0, 0, 0, 0.3));\n",
              "      fill: #FFFFFF;\n",
              "    }\n",
              "  </style>\n",
              "\n",
              "      <script>\n",
              "        const buttonEl =\n",
              "          document.querySelector('#df-8c418cc0-3a0a-4e96-a5ba-75e1c0fa211d button.colab-df-convert');\n",
              "        buttonEl.style.display =\n",
              "          google.colab.kernel.accessAllowed ? 'block' : 'none';\n",
              "\n",
              "        async function convertToInteractive(key) {\n",
              "          const element = document.querySelector('#df-8c418cc0-3a0a-4e96-a5ba-75e1c0fa211d');\n",
              "          const dataTable =\n",
              "            await google.colab.kernel.invokeFunction('convertToInteractive',\n",
              "                                                     [key], {});\n",
              "          if (!dataTable) return;\n",
              "\n",
              "          const docLinkHtml = 'Like what you see? Visit the ' +\n",
              "            '<a target=\"_blank\" href=https://colab.research.google.com/notebooks/data_table.ipynb>data table notebook</a>'\n",
              "            + ' to learn more about interactive tables.';\n",
              "          element.innerHTML = '';\n",
              "          dataTable['output_type'] = 'display_data';\n",
              "          await google.colab.output.renderOutput(dataTable, element);\n",
              "          const docLink = document.createElement('div');\n",
              "          docLink.innerHTML = docLinkHtml;\n",
              "          element.appendChild(docLink);\n",
              "        }\n",
              "      </script>\n",
              "    </div>\n",
              "  </div>\n",
              "  "
            ]
          },
          "metadata": {},
          "execution_count": 2
        }
      ]
    },
    {
      "cell_type": "markdown",
      "source": [
        "Размер датасета"
      ],
      "metadata": {
        "id": "wu5BAY72nITX"
      }
    },
    {
      "cell_type": "code",
      "source": [
        "bookings.shape"
      ],
      "metadata": {
        "colab": {
          "base_uri": "https://localhost:8080/"
        },
        "id": "Vs4AYfH0nNCT",
        "outputId": "06dd0c13-95c8-4746-cf64-374ff228821b"
      },
      "execution_count": 3,
      "outputs": [
        {
          "output_type": "execute_result",
          "data": {
            "text/plain": [
              "(10067, 21)"
            ]
          },
          "metadata": {},
          "execution_count": 3
        }
      ]
    },
    {
      "cell_type": "markdown",
      "source": [
        "Типы данных"
      ],
      "metadata": {
        "id": "XkkDlQPtnTgg"
      }
    },
    {
      "cell_type": "code",
      "source": [
        "bookings.dtypes"
      ],
      "metadata": {
        "colab": {
          "base_uri": "https://localhost:8080/"
        },
        "id": "-4YkBcc8nUrl",
        "outputId": "c3f75232-cd2c-41b6-c805-b144c9be46b1"
      },
      "execution_count": 4,
      "outputs": [
        {
          "output_type": "execute_result",
          "data": {
            "text/plain": [
              "Hotel                         object\n",
              "Is Canceled                    int64\n",
              "Lead Time                      int64\n",
              "arrival full date             object\n",
              "Arrival Date Year            float64\n",
              "Arrival Date Month            object\n",
              "Arrival Date Week Number     float64\n",
              "Arrival Date Day of Month    float64\n",
              "Stays in Weekend nights      float64\n",
              "Stays in week nights         float64\n",
              "stays total nights           float64\n",
              "Adults                       float64\n",
              "Children                     float64\n",
              "Babies                       float64\n",
              "Meal                          object\n",
              "Country                       object\n",
              "Reserved Room Type            object\n",
              "Assigned room type            object\n",
              "customer type                 object\n",
              "Reservation Status            object\n",
              "Reservation status_date       object\n",
              "dtype: object"
            ]
          },
          "metadata": {},
          "execution_count": 4
        }
      ]
    },
    {
      "cell_type": "markdown",
      "source": [
        "Переименование колонок"
      ],
      "metadata": {
        "id": "5mGmSAvKnjWZ"
      }
    },
    {
      "cell_type": "code",
      "source": [
        "def replace_name(data):\n",
        "  new_name = data.lower().replace(' ', '_')\n",
        "  return new_name\n",
        "\n",
        "bookings = bookings.rename(columns=replace_name)"
      ],
      "metadata": {
        "id": "TdO9s5GsnlkF"
      },
      "execution_count": 5,
      "outputs": []
    },
    {
      "cell_type": "markdown",
      "source": [
        "*Найти наибольшее число успешных бронирований (если в дальнейшем оно не было отменено (переменная is_canceled))*"
      ],
      "metadata": {
        "id": "0OGKI9L-ph6A"
      }
    },
    {
      "cell_type": "code",
      "source": [
        "bookings.loc[bookings.is_canceled == 1].country.value_counts()"
      ],
      "metadata": {
        "colab": {
          "base_uri": "https://localhost:8080/"
        },
        "id": "pxmPLWHmrFd8",
        "outputId": "213d4971-fa52-430e-ba0e-f1b6779aee37"
      },
      "execution_count": 6,
      "outputs": [
        {
          "output_type": "execute_result",
          "data": {
            "text/plain": [
              "PRT    4889\n",
              "ESP     399\n",
              "GBR     321\n",
              "IRL     143\n",
              "FRA      91\n",
              "DEU      71\n",
              "BRA      62\n",
              "SWE      60\n",
              "CN       46\n",
              "ITA      33\n",
              "CHE      32\n",
              "USA      29\n",
              "AUT      27\n",
              "NLD      23\n",
              "BEL      18\n",
              "MAR      15\n",
              "LUX      13\n",
              "RUS      13\n",
              "ROU      12\n",
              "POL      11\n",
              "ARG       8\n",
              "TUR       6\n",
              "FIN       6\n",
              "DZA       5\n",
              "AUS       4\n",
              "CZE       4\n",
              "IND       4\n",
              "ARE       4\n",
              "KOR       3\n",
              "ISR       3\n",
              "NOR       3\n",
              "JEY       3\n",
              "BLR       3\n",
              "ZAF       3\n",
              "COL       2\n",
              "GRC       2\n",
              "EST       2\n",
              "HKG       2\n",
              "GIB       2\n",
              "MOZ       2\n",
              "CHN       2\n",
              "URY       2\n",
              "ALB       1\n",
              "TUN       1\n",
              "CYP       1\n",
              "AND       1\n",
              "DNK       1\n",
              "LVA       1\n",
              "GEO       1\n",
              "GGY       1\n",
              "KWT       1\n",
              "NGA       1\n",
              "Name: country, dtype: int64"
            ]
          },
          "metadata": {},
          "execution_count": 6
        }
      ]
    },
    {
      "cell_type": "markdown",
      "source": [
        "Таким образом, наибольшее количество бронирования из PRT, GBR, ESP, FRA, ITA."
      ],
      "metadata": {
        "id": "XNqCVU1htRIK"
      }
    },
    {
      "cell_type": "markdown",
      "source": [
        "*Найти на сколько ночей в среднем бронируют отели типа City Hotel? Resort Hotel?*"
      ],
      "metadata": {
        "id": "W8-lE_XDtga1"
      }
    },
    {
      "cell_type": "code",
      "source": [
        "bookings.groupby('hotel').stays_total_nights.mean().round(2)"
      ],
      "metadata": {
        "colab": {
          "base_uri": "https://localhost:8080/"
        },
        "id": "evMB99Hqtn8P",
        "outputId": "a2007321-69b3-41c9-8b11-a93f509dfed5"
      },
      "execution_count": 7,
      "outputs": [
        {
          "output_type": "execute_result",
          "data": {
            "text/plain": [
              "hotel\n",
              "Resort Hotel    4.64\n",
              "Name: stays_total_nights, dtype: float64"
            ]
          },
          "metadata": {},
          "execution_count": 7
        }
      ]
    },
    {
      "cell_type": "markdown",
      "source": [
        "Среднее число забронированных ночей в отелях типа city hotel: 2.98. В resort hotel: 4.32."
      ],
      "metadata": {
        "id": "9TO7NfqQvq9S"
      }
    },
    {
      "cell_type": "markdown",
      "source": [
        "*Найти количество овербукинга в датасете?*"
      ],
      "metadata": {
        "id": "eOiTOQ4YwE1y"
      }
    },
    {
      "cell_type": "code",
      "source": [
        "len(bookings.loc[bookings.assigned_room_type != bookings.reserved_room_type])"
      ],
      "metadata": {
        "colab": {
          "base_uri": "https://localhost:8080/"
        },
        "id": "zcTaVWP8tawJ",
        "outputId": "3ed9e320-3625-44a0-858a-632789d46ebc"
      },
      "execution_count": 8,
      "outputs": [
        {
          "output_type": "execute_result",
          "data": {
            "text/plain": [
              "1162"
            ]
          },
          "metadata": {},
          "execution_count": 8
        }
      ]
    },
    {
      "cell_type": "markdown",
      "source": [
        "*Найти месяц на котором чащё всего оформляли бронь в 2016 году? изменился ли самый популярный месяц в 2017?*"
      ],
      "metadata": {
        "id": "0_1-THnwwmJd"
      }
    },
    {
      "cell_type": "code",
      "source": [
        "bookings.groupby('arrival_date_year').arrival_date_month.describe()"
      ],
      "metadata": {
        "colab": {
          "base_uri": "https://localhost:8080/",
          "height": 175
        },
        "id": "eBkeAVLBww3z",
        "outputId": "b31a0e00-5428-4572-f677-8b9bd94a0c4a"
      },
      "execution_count": 9,
      "outputs": [
        {
          "output_type": "execute_result",
          "data": {
            "text/plain": [
              "                  count unique      top freq\n",
              "arrival_date_year                           \n",
              "2015.0             3738      6     July  842\n",
              "2016.0             6037     12      May  754\n",
              "2017.0              291      2  January  203"
            ],
            "text/html": [
              "\n",
              "  <div id=\"df-d6fab025-6582-4ee1-9a99-eb19f619a9ea\">\n",
              "    <div class=\"colab-df-container\">\n",
              "      <div>\n",
              "<style scoped>\n",
              "    .dataframe tbody tr th:only-of-type {\n",
              "        vertical-align: middle;\n",
              "    }\n",
              "\n",
              "    .dataframe tbody tr th {\n",
              "        vertical-align: top;\n",
              "    }\n",
              "\n",
              "    .dataframe thead th {\n",
              "        text-align: right;\n",
              "    }\n",
              "</style>\n",
              "<table border=\"1\" class=\"dataframe\">\n",
              "  <thead>\n",
              "    <tr style=\"text-align: right;\">\n",
              "      <th></th>\n",
              "      <th>count</th>\n",
              "      <th>unique</th>\n",
              "      <th>top</th>\n",
              "      <th>freq</th>\n",
              "    </tr>\n",
              "    <tr>\n",
              "      <th>arrival_date_year</th>\n",
              "      <th></th>\n",
              "      <th></th>\n",
              "      <th></th>\n",
              "      <th></th>\n",
              "    </tr>\n",
              "  </thead>\n",
              "  <tbody>\n",
              "    <tr>\n",
              "      <th>2015.0</th>\n",
              "      <td>3738</td>\n",
              "      <td>6</td>\n",
              "      <td>July</td>\n",
              "      <td>842</td>\n",
              "    </tr>\n",
              "    <tr>\n",
              "      <th>2016.0</th>\n",
              "      <td>6037</td>\n",
              "      <td>12</td>\n",
              "      <td>May</td>\n",
              "      <td>754</td>\n",
              "    </tr>\n",
              "    <tr>\n",
              "      <th>2017.0</th>\n",
              "      <td>291</td>\n",
              "      <td>2</td>\n",
              "      <td>January</td>\n",
              "      <td>203</td>\n",
              "    </tr>\n",
              "  </tbody>\n",
              "</table>\n",
              "</div>\n",
              "      <button class=\"colab-df-convert\" onclick=\"convertToInteractive('df-d6fab025-6582-4ee1-9a99-eb19f619a9ea')\"\n",
              "              title=\"Convert this dataframe to an interactive table.\"\n",
              "              style=\"display:none;\">\n",
              "        \n",
              "  <svg xmlns=\"http://www.w3.org/2000/svg\" height=\"24px\"viewBox=\"0 0 24 24\"\n",
              "       width=\"24px\">\n",
              "    <path d=\"M0 0h24v24H0V0z\" fill=\"none\"/>\n",
              "    <path d=\"M18.56 5.44l.94 2.06.94-2.06 2.06-.94-2.06-.94-.94-2.06-.94 2.06-2.06.94zm-11 1L8.5 8.5l.94-2.06 2.06-.94-2.06-.94L8.5 2.5l-.94 2.06-2.06.94zm10 10l.94 2.06.94-2.06 2.06-.94-2.06-.94-.94-2.06-.94 2.06-2.06.94z\"/><path d=\"M17.41 7.96l-1.37-1.37c-.4-.4-.92-.59-1.43-.59-.52 0-1.04.2-1.43.59L10.3 9.45l-7.72 7.72c-.78.78-.78 2.05 0 2.83L4 21.41c.39.39.9.59 1.41.59.51 0 1.02-.2 1.41-.59l7.78-7.78 2.81-2.81c.8-.78.8-2.07 0-2.86zM5.41 20L4 18.59l7.72-7.72 1.47 1.35L5.41 20z\"/>\n",
              "  </svg>\n",
              "      </button>\n",
              "      \n",
              "  <style>\n",
              "    .colab-df-container {\n",
              "      display:flex;\n",
              "      flex-wrap:wrap;\n",
              "      gap: 12px;\n",
              "    }\n",
              "\n",
              "    .colab-df-convert {\n",
              "      background-color: #E8F0FE;\n",
              "      border: none;\n",
              "      border-radius: 50%;\n",
              "      cursor: pointer;\n",
              "      display: none;\n",
              "      fill: #1967D2;\n",
              "      height: 32px;\n",
              "      padding: 0 0 0 0;\n",
              "      width: 32px;\n",
              "    }\n",
              "\n",
              "    .colab-df-convert:hover {\n",
              "      background-color: #E2EBFA;\n",
              "      box-shadow: 0px 1px 2px rgba(60, 64, 67, 0.3), 0px 1px 3px 1px rgba(60, 64, 67, 0.15);\n",
              "      fill: #174EA6;\n",
              "    }\n",
              "\n",
              "    [theme=dark] .colab-df-convert {\n",
              "      background-color: #3B4455;\n",
              "      fill: #D2E3FC;\n",
              "    }\n",
              "\n",
              "    [theme=dark] .colab-df-convert:hover {\n",
              "      background-color: #434B5C;\n",
              "      box-shadow: 0px 1px 3px 1px rgba(0, 0, 0, 0.15);\n",
              "      filter: drop-shadow(0px 1px 2px rgba(0, 0, 0, 0.3));\n",
              "      fill: #FFFFFF;\n",
              "    }\n",
              "  </style>\n",
              "\n",
              "      <script>\n",
              "        const buttonEl =\n",
              "          document.querySelector('#df-d6fab025-6582-4ee1-9a99-eb19f619a9ea button.colab-df-convert');\n",
              "        buttonEl.style.display =\n",
              "          google.colab.kernel.accessAllowed ? 'block' : 'none';\n",
              "\n",
              "        async function convertToInteractive(key) {\n",
              "          const element = document.querySelector('#df-d6fab025-6582-4ee1-9a99-eb19f619a9ea');\n",
              "          const dataTable =\n",
              "            await google.colab.kernel.invokeFunction('convertToInteractive',\n",
              "                                                     [key], {});\n",
              "          if (!dataTable) return;\n",
              "\n",
              "          const docLinkHtml = 'Like what you see? Visit the ' +\n",
              "            '<a target=\"_blank\" href=https://colab.research.google.com/notebooks/data_table.ipynb>data table notebook</a>'\n",
              "            + ' to learn more about interactive tables.';\n",
              "          element.innerHTML = '';\n",
              "          dataTable['output_type'] = 'display_data';\n",
              "          await google.colab.output.renderOutput(dataTable, element);\n",
              "          const docLink = document.createElement('div');\n",
              "          docLink.innerHTML = docLinkHtml;\n",
              "          element.appendChild(docLink);\n",
              "        }\n",
              "      </script>\n",
              "    </div>\n",
              "  </div>\n",
              "  "
            ]
          },
          "metadata": {},
          "execution_count": 9
        }
      ]
    },
    {
      "cell_type": "markdown",
      "source": [
        "В результате:\n",
        "1. В 2016 году чаще всего бронировали отель на октябрь\n",
        "2. В 2017 году чаще всего бронировали на май"
      ],
      "metadata": {
        "id": "UuuM4sDtxXB-"
      }
    },
    {
      "cell_type": "markdown",
      "source": [
        "*Создайте колонку total_kids, объединив столбцы children и babies. Для отелей какого типа среднее значение переменной оказалось наибольшим?*"
      ],
      "metadata": {
        "id": "EbpBJfLhyrWN"
      }
    },
    {
      "cell_type": "code",
      "source": [
        "bookings['total_kids'] = bookings.children + bookings.babies\n",
        "bookings.groupby('hotel').total_kids.mean().round(2)"
      ],
      "metadata": {
        "colab": {
          "base_uri": "https://localhost:8080/"
        },
        "id": "s4AOncBCyDWw",
        "outputId": "dfacf095-06c1-424b-e437-a3673c20f577"
      },
      "execution_count": 10,
      "outputs": [
        {
          "output_type": "execute_result",
          "data": {
            "text/plain": [
              "hotel\n",
              "Resort Hotel    0.14\n",
              "Name: total_kids, dtype: float64"
            ]
          },
          "metadata": {},
          "execution_count": 10
        }
      ]
    },
    {
      "cell_type": "markdown",
      "source": [
        "Для отеля типа Resort Hotel среднее значение переменной оказалось наибольшим: 0,14."
      ],
      "metadata": {
        "id": "5BKH-9blyv_l"
      }
    },
    {
      "cell_type": "markdown",
      "source": [
        "*Посчитать метрику под названием Churn Rate*"
      ],
      "metadata": {
        "id": "k0Gg0dry4Fh6"
      }
    },
    {
      "cell_type": "code",
      "source": [
        "def has_kids(num_kids):\n",
        "  if num_kids > 0:\n",
        "    return True\n",
        "  else:\n",
        "    return False\n",
        "\n",
        "bookings['churn_rate'] = bookings.total_kids.apply(has_kids)\n",
        "bookings"
      ],
      "metadata": {
        "id": "-4LF8GUty3VM",
        "colab": {
          "base_uri": "https://localhost:8080/",
          "height": 661
        },
        "outputId": "de9ef542-1359-4df6-f323-cb7f281ce23f"
      },
      "execution_count": 11,
      "outputs": [
        {
          "output_type": "execute_result",
          "data": {
            "text/plain": [
              "              hotel  is_canceled  lead_time arrival_full_date  \\\n",
              "0      Resort Hotel            0        342        2015-07-01   \n",
              "1      Resort Hotel            0        737        2015-07-01   \n",
              "2      Resort Hotel            0          7        2015-07-01   \n",
              "3      Resort Hotel            0         13        2015-07-01   \n",
              "4      Resort Hotel            0         14        2015-07-01   \n",
              "...             ...          ...        ...               ...   \n",
              "10062  Resort Hotel            1          7        2017-02-10   \n",
              "10063  Resort Hotel            1        238        2017-02-10   \n",
              "10064  Resort Hotel            1        238        2017-02-10   \n",
              "10065  Resort Hotel            1        238        2017-02-10   \n",
              "10066  Resort Hotel            1        238         2017-02-1   \n",
              "\n",
              "       arrival_date_year arrival_date_month  arrival_date_week_number  \\\n",
              "0                 2015.0               July                      27.0   \n",
              "1                 2015.0               July                      27.0   \n",
              "2                 2015.0               July                      27.0   \n",
              "3                 2015.0               July                      27.0   \n",
              "4                 2015.0               July                      27.0   \n",
              "...                  ...                ...                       ...   \n",
              "10062             2017.0           February                       6.0   \n",
              "10063             2017.0           February                       6.0   \n",
              "10064             2017.0           February                       6.0   \n",
              "10065             2017.0           February                       6.0   \n",
              "10066                NaN                NaN                       NaN   \n",
              "\n",
              "       arrival_date_day_of_month  stays_in_weekend_nights  \\\n",
              "0                            1.0                      0.0   \n",
              "1                            1.0                      0.0   \n",
              "2                            1.0                      0.0   \n",
              "3                            1.0                      0.0   \n",
              "4                            1.0                      0.0   \n",
              "...                          ...                      ...   \n",
              "10062                       10.0                      0.0   \n",
              "10063                       10.0                      0.0   \n",
              "10064                       10.0                      0.0   \n",
              "10065                       10.0                      0.0   \n",
              "10066                        NaN                      NaN   \n",
              "\n",
              "       stays_in_week_nights  ...  babies  meal  country  reserved_room_type  \\\n",
              "0                       0.0  ...     0.0    BB      PRT                   C   \n",
              "1                       0.0  ...     0.0    BB      PRT                   C   \n",
              "2                       1.0  ...     0.0    BB      GBR                   A   \n",
              "3                       1.0  ...     0.0    BB      GBR                   A   \n",
              "4                       2.0  ...     0.0    BB      GBR                   A   \n",
              "...                     ...  ...     ...   ...      ...                 ...   \n",
              "10062                   2.0  ...     0.0    BB      BRA                   D   \n",
              "10063                   2.0  ...     0.0    HB      PRT                   A   \n",
              "10064                   2.0  ...     0.0    HB      PRT                   A   \n",
              "10065                   2.0  ...     0.0    HB      PRT                   A   \n",
              "10066                   NaN  ...     NaN   NaN      NaN                 NaN   \n",
              "\n",
              "      assigned_room_type customer_type reservation_status  \\\n",
              "0                      C     Transient          Check-Out   \n",
              "1                      C     Transient          Check-Out   \n",
              "2                      C     Transient          Check-Out   \n",
              "3                      A     Transient          Check-Out   \n",
              "4                      A     Transient          Check-Out   \n",
              "...                  ...           ...                ...   \n",
              "10062                  D     Transient           Canceled   \n",
              "10063                  A     Transient           Canceled   \n",
              "10064                  A     Transient           Canceled   \n",
              "10065                  A     Transient           Canceled   \n",
              "10066                NaN           NaN                NaN   \n",
              "\n",
              "      reservation_status_date total_kids churn_rate  \n",
              "0                  2015-07-01        0.0      False  \n",
              "1                  2015-07-01        0.0      False  \n",
              "2                  2015-07-02        0.0      False  \n",
              "3                  2015-07-02        0.0      False  \n",
              "4                  2015-07-03        0.0      False  \n",
              "...                       ...        ...        ...  \n",
              "10062              2017-02-04        0.0      False  \n",
              "10063              2016-12-15        0.0      False  \n",
              "10064              2016-12-15        0.0      False  \n",
              "10065              2016-12-15        0.0      False  \n",
              "10066                     NaN        NaN      False  \n",
              "\n",
              "[10067 rows x 23 columns]"
            ],
            "text/html": [
              "\n",
              "  <div id=\"df-38c1fc42-2af2-4f4d-8207-0e97084f87f2\">\n",
              "    <div class=\"colab-df-container\">\n",
              "      <div>\n",
              "<style scoped>\n",
              "    .dataframe tbody tr th:only-of-type {\n",
              "        vertical-align: middle;\n",
              "    }\n",
              "\n",
              "    .dataframe tbody tr th {\n",
              "        vertical-align: top;\n",
              "    }\n",
              "\n",
              "    .dataframe thead th {\n",
              "        text-align: right;\n",
              "    }\n",
              "</style>\n",
              "<table border=\"1\" class=\"dataframe\">\n",
              "  <thead>\n",
              "    <tr style=\"text-align: right;\">\n",
              "      <th></th>\n",
              "      <th>hotel</th>\n",
              "      <th>is_canceled</th>\n",
              "      <th>lead_time</th>\n",
              "      <th>arrival_full_date</th>\n",
              "      <th>arrival_date_year</th>\n",
              "      <th>arrival_date_month</th>\n",
              "      <th>arrival_date_week_number</th>\n",
              "      <th>arrival_date_day_of_month</th>\n",
              "      <th>stays_in_weekend_nights</th>\n",
              "      <th>stays_in_week_nights</th>\n",
              "      <th>...</th>\n",
              "      <th>babies</th>\n",
              "      <th>meal</th>\n",
              "      <th>country</th>\n",
              "      <th>reserved_room_type</th>\n",
              "      <th>assigned_room_type</th>\n",
              "      <th>customer_type</th>\n",
              "      <th>reservation_status</th>\n",
              "      <th>reservation_status_date</th>\n",
              "      <th>total_kids</th>\n",
              "      <th>churn_rate</th>\n",
              "    </tr>\n",
              "  </thead>\n",
              "  <tbody>\n",
              "    <tr>\n",
              "      <th>0</th>\n",
              "      <td>Resort Hotel</td>\n",
              "      <td>0</td>\n",
              "      <td>342</td>\n",
              "      <td>2015-07-01</td>\n",
              "      <td>2015.0</td>\n",
              "      <td>July</td>\n",
              "      <td>27.0</td>\n",
              "      <td>1.0</td>\n",
              "      <td>0.0</td>\n",
              "      <td>0.0</td>\n",
              "      <td>...</td>\n",
              "      <td>0.0</td>\n",
              "      <td>BB</td>\n",
              "      <td>PRT</td>\n",
              "      <td>C</td>\n",
              "      <td>C</td>\n",
              "      <td>Transient</td>\n",
              "      <td>Check-Out</td>\n",
              "      <td>2015-07-01</td>\n",
              "      <td>0.0</td>\n",
              "      <td>False</td>\n",
              "    </tr>\n",
              "    <tr>\n",
              "      <th>1</th>\n",
              "      <td>Resort Hotel</td>\n",
              "      <td>0</td>\n",
              "      <td>737</td>\n",
              "      <td>2015-07-01</td>\n",
              "      <td>2015.0</td>\n",
              "      <td>July</td>\n",
              "      <td>27.0</td>\n",
              "      <td>1.0</td>\n",
              "      <td>0.0</td>\n",
              "      <td>0.0</td>\n",
              "      <td>...</td>\n",
              "      <td>0.0</td>\n",
              "      <td>BB</td>\n",
              "      <td>PRT</td>\n",
              "      <td>C</td>\n",
              "      <td>C</td>\n",
              "      <td>Transient</td>\n",
              "      <td>Check-Out</td>\n",
              "      <td>2015-07-01</td>\n",
              "      <td>0.0</td>\n",
              "      <td>False</td>\n",
              "    </tr>\n",
              "    <tr>\n",
              "      <th>2</th>\n",
              "      <td>Resort Hotel</td>\n",
              "      <td>0</td>\n",
              "      <td>7</td>\n",
              "      <td>2015-07-01</td>\n",
              "      <td>2015.0</td>\n",
              "      <td>July</td>\n",
              "      <td>27.0</td>\n",
              "      <td>1.0</td>\n",
              "      <td>0.0</td>\n",
              "      <td>1.0</td>\n",
              "      <td>...</td>\n",
              "      <td>0.0</td>\n",
              "      <td>BB</td>\n",
              "      <td>GBR</td>\n",
              "      <td>A</td>\n",
              "      <td>C</td>\n",
              "      <td>Transient</td>\n",
              "      <td>Check-Out</td>\n",
              "      <td>2015-07-02</td>\n",
              "      <td>0.0</td>\n",
              "      <td>False</td>\n",
              "    </tr>\n",
              "    <tr>\n",
              "      <th>3</th>\n",
              "      <td>Resort Hotel</td>\n",
              "      <td>0</td>\n",
              "      <td>13</td>\n",
              "      <td>2015-07-01</td>\n",
              "      <td>2015.0</td>\n",
              "      <td>July</td>\n",
              "      <td>27.0</td>\n",
              "      <td>1.0</td>\n",
              "      <td>0.0</td>\n",
              "      <td>1.0</td>\n",
              "      <td>...</td>\n",
              "      <td>0.0</td>\n",
              "      <td>BB</td>\n",
              "      <td>GBR</td>\n",
              "      <td>A</td>\n",
              "      <td>A</td>\n",
              "      <td>Transient</td>\n",
              "      <td>Check-Out</td>\n",
              "      <td>2015-07-02</td>\n",
              "      <td>0.0</td>\n",
              "      <td>False</td>\n",
              "    </tr>\n",
              "    <tr>\n",
              "      <th>4</th>\n",
              "      <td>Resort Hotel</td>\n",
              "      <td>0</td>\n",
              "      <td>14</td>\n",
              "      <td>2015-07-01</td>\n",
              "      <td>2015.0</td>\n",
              "      <td>July</td>\n",
              "      <td>27.0</td>\n",
              "      <td>1.0</td>\n",
              "      <td>0.0</td>\n",
              "      <td>2.0</td>\n",
              "      <td>...</td>\n",
              "      <td>0.0</td>\n",
              "      <td>BB</td>\n",
              "      <td>GBR</td>\n",
              "      <td>A</td>\n",
              "      <td>A</td>\n",
              "      <td>Transient</td>\n",
              "      <td>Check-Out</td>\n",
              "      <td>2015-07-03</td>\n",
              "      <td>0.0</td>\n",
              "      <td>False</td>\n",
              "    </tr>\n",
              "    <tr>\n",
              "      <th>...</th>\n",
              "      <td>...</td>\n",
              "      <td>...</td>\n",
              "      <td>...</td>\n",
              "      <td>...</td>\n",
              "      <td>...</td>\n",
              "      <td>...</td>\n",
              "      <td>...</td>\n",
              "      <td>...</td>\n",
              "      <td>...</td>\n",
              "      <td>...</td>\n",
              "      <td>...</td>\n",
              "      <td>...</td>\n",
              "      <td>...</td>\n",
              "      <td>...</td>\n",
              "      <td>...</td>\n",
              "      <td>...</td>\n",
              "      <td>...</td>\n",
              "      <td>...</td>\n",
              "      <td>...</td>\n",
              "      <td>...</td>\n",
              "      <td>...</td>\n",
              "    </tr>\n",
              "    <tr>\n",
              "      <th>10062</th>\n",
              "      <td>Resort Hotel</td>\n",
              "      <td>1</td>\n",
              "      <td>7</td>\n",
              "      <td>2017-02-10</td>\n",
              "      <td>2017.0</td>\n",
              "      <td>February</td>\n",
              "      <td>6.0</td>\n",
              "      <td>10.0</td>\n",
              "      <td>0.0</td>\n",
              "      <td>2.0</td>\n",
              "      <td>...</td>\n",
              "      <td>0.0</td>\n",
              "      <td>BB</td>\n",
              "      <td>BRA</td>\n",
              "      <td>D</td>\n",
              "      <td>D</td>\n",
              "      <td>Transient</td>\n",
              "      <td>Canceled</td>\n",
              "      <td>2017-02-04</td>\n",
              "      <td>0.0</td>\n",
              "      <td>False</td>\n",
              "    </tr>\n",
              "    <tr>\n",
              "      <th>10063</th>\n",
              "      <td>Resort Hotel</td>\n",
              "      <td>1</td>\n",
              "      <td>238</td>\n",
              "      <td>2017-02-10</td>\n",
              "      <td>2017.0</td>\n",
              "      <td>February</td>\n",
              "      <td>6.0</td>\n",
              "      <td>10.0</td>\n",
              "      <td>0.0</td>\n",
              "      <td>2.0</td>\n",
              "      <td>...</td>\n",
              "      <td>0.0</td>\n",
              "      <td>HB</td>\n",
              "      <td>PRT</td>\n",
              "      <td>A</td>\n",
              "      <td>A</td>\n",
              "      <td>Transient</td>\n",
              "      <td>Canceled</td>\n",
              "      <td>2016-12-15</td>\n",
              "      <td>0.0</td>\n",
              "      <td>False</td>\n",
              "    </tr>\n",
              "    <tr>\n",
              "      <th>10064</th>\n",
              "      <td>Resort Hotel</td>\n",
              "      <td>1</td>\n",
              "      <td>238</td>\n",
              "      <td>2017-02-10</td>\n",
              "      <td>2017.0</td>\n",
              "      <td>February</td>\n",
              "      <td>6.0</td>\n",
              "      <td>10.0</td>\n",
              "      <td>0.0</td>\n",
              "      <td>2.0</td>\n",
              "      <td>...</td>\n",
              "      <td>0.0</td>\n",
              "      <td>HB</td>\n",
              "      <td>PRT</td>\n",
              "      <td>A</td>\n",
              "      <td>A</td>\n",
              "      <td>Transient</td>\n",
              "      <td>Canceled</td>\n",
              "      <td>2016-12-15</td>\n",
              "      <td>0.0</td>\n",
              "      <td>False</td>\n",
              "    </tr>\n",
              "    <tr>\n",
              "      <th>10065</th>\n",
              "      <td>Resort Hotel</td>\n",
              "      <td>1</td>\n",
              "      <td>238</td>\n",
              "      <td>2017-02-10</td>\n",
              "      <td>2017.0</td>\n",
              "      <td>February</td>\n",
              "      <td>6.0</td>\n",
              "      <td>10.0</td>\n",
              "      <td>0.0</td>\n",
              "      <td>2.0</td>\n",
              "      <td>...</td>\n",
              "      <td>0.0</td>\n",
              "      <td>HB</td>\n",
              "      <td>PRT</td>\n",
              "      <td>A</td>\n",
              "      <td>A</td>\n",
              "      <td>Transient</td>\n",
              "      <td>Canceled</td>\n",
              "      <td>2016-12-15</td>\n",
              "      <td>0.0</td>\n",
              "      <td>False</td>\n",
              "    </tr>\n",
              "    <tr>\n",
              "      <th>10066</th>\n",
              "      <td>Resort Hotel</td>\n",
              "      <td>1</td>\n",
              "      <td>238</td>\n",
              "      <td>2017-02-1</td>\n",
              "      <td>NaN</td>\n",
              "      <td>NaN</td>\n",
              "      <td>NaN</td>\n",
              "      <td>NaN</td>\n",
              "      <td>NaN</td>\n",
              "      <td>NaN</td>\n",
              "      <td>...</td>\n",
              "      <td>NaN</td>\n",
              "      <td>NaN</td>\n",
              "      <td>NaN</td>\n",
              "      <td>NaN</td>\n",
              "      <td>NaN</td>\n",
              "      <td>NaN</td>\n",
              "      <td>NaN</td>\n",
              "      <td>NaN</td>\n",
              "      <td>NaN</td>\n",
              "      <td>False</td>\n",
              "    </tr>\n",
              "  </tbody>\n",
              "</table>\n",
              "<p>10067 rows × 23 columns</p>\n",
              "</div>\n",
              "      <button class=\"colab-df-convert\" onclick=\"convertToInteractive('df-38c1fc42-2af2-4f4d-8207-0e97084f87f2')\"\n",
              "              title=\"Convert this dataframe to an interactive table.\"\n",
              "              style=\"display:none;\">\n",
              "        \n",
              "  <svg xmlns=\"http://www.w3.org/2000/svg\" height=\"24px\"viewBox=\"0 0 24 24\"\n",
              "       width=\"24px\">\n",
              "    <path d=\"M0 0h24v24H0V0z\" fill=\"none\"/>\n",
              "    <path d=\"M18.56 5.44l.94 2.06.94-2.06 2.06-.94-2.06-.94-.94-2.06-.94 2.06-2.06.94zm-11 1L8.5 8.5l.94-2.06 2.06-.94-2.06-.94L8.5 2.5l-.94 2.06-2.06.94zm10 10l.94 2.06.94-2.06 2.06-.94-2.06-.94-.94-2.06-.94 2.06-2.06.94z\"/><path d=\"M17.41 7.96l-1.37-1.37c-.4-.4-.92-.59-1.43-.59-.52 0-1.04.2-1.43.59L10.3 9.45l-7.72 7.72c-.78.78-.78 2.05 0 2.83L4 21.41c.39.39.9.59 1.41.59.51 0 1.02-.2 1.41-.59l7.78-7.78 2.81-2.81c.8-.78.8-2.07 0-2.86zM5.41 20L4 18.59l7.72-7.72 1.47 1.35L5.41 20z\"/>\n",
              "  </svg>\n",
              "      </button>\n",
              "      \n",
              "  <style>\n",
              "    .colab-df-container {\n",
              "      display:flex;\n",
              "      flex-wrap:wrap;\n",
              "      gap: 12px;\n",
              "    }\n",
              "\n",
              "    .colab-df-convert {\n",
              "      background-color: #E8F0FE;\n",
              "      border: none;\n",
              "      border-radius: 50%;\n",
              "      cursor: pointer;\n",
              "      display: none;\n",
              "      fill: #1967D2;\n",
              "      height: 32px;\n",
              "      padding: 0 0 0 0;\n",
              "      width: 32px;\n",
              "    }\n",
              "\n",
              "    .colab-df-convert:hover {\n",
              "      background-color: #E2EBFA;\n",
              "      box-shadow: 0px 1px 2px rgba(60, 64, 67, 0.3), 0px 1px 3px 1px rgba(60, 64, 67, 0.15);\n",
              "      fill: #174EA6;\n",
              "    }\n",
              "\n",
              "    [theme=dark] .colab-df-convert {\n",
              "      background-color: #3B4455;\n",
              "      fill: #D2E3FC;\n",
              "    }\n",
              "\n",
              "    [theme=dark] .colab-df-convert:hover {\n",
              "      background-color: #434B5C;\n",
              "      box-shadow: 0px 1px 3px 1px rgba(0, 0, 0, 0.15);\n",
              "      filter: drop-shadow(0px 1px 2px rgba(0, 0, 0, 0.3));\n",
              "      fill: #FFFFFF;\n",
              "    }\n",
              "  </style>\n",
              "\n",
              "      <script>\n",
              "        const buttonEl =\n",
              "          document.querySelector('#df-38c1fc42-2af2-4f4d-8207-0e97084f87f2 button.colab-df-convert');\n",
              "        buttonEl.style.display =\n",
              "          google.colab.kernel.accessAllowed ? 'block' : 'none';\n",
              "\n",
              "        async function convertToInteractive(key) {\n",
              "          const element = document.querySelector('#df-38c1fc42-2af2-4f4d-8207-0e97084f87f2');\n",
              "          const dataTable =\n",
              "            await google.colab.kernel.invokeFunction('convertToInteractive',\n",
              "                                                     [key], {});\n",
              "          if (!dataTable) return;\n",
              "\n",
              "          const docLinkHtml = 'Like what you see? Visit the ' +\n",
              "            '<a target=\"_blank\" href=https://colab.research.google.com/notebooks/data_table.ipynb>data table notebook</a>'\n",
              "            + ' to learn more about interactive tables.';\n",
              "          element.innerHTML = '';\n",
              "          dataTable['output_type'] = 'display_data';\n",
              "          await google.colab.output.renderOutput(dataTable, element);\n",
              "          const docLink = document.createElement('div');\n",
              "          docLink.innerHTML = docLinkHtml;\n",
              "          element.appendChild(docLink);\n",
              "        }\n",
              "      </script>\n",
              "    </div>\n",
              "  </div>\n",
              "  "
            ]
          },
          "metadata": {},
          "execution_count": 11
        }
      ]
    },
    {
      "cell_type": "code",
      "source": [
        "bookings[['churn_rate', 'is_canceled']].value_counts()"
      ],
      "metadata": {
        "colab": {
          "base_uri": "https://localhost:8080/"
        },
        "id": "XGiYg1C-05xg",
        "outputId": "dd03c18d-9950-4494-9433-f0c0bc4b5e19"
      },
      "execution_count": 12,
      "outputs": [
        {
          "output_type": "execute_result",
          "data": {
            "text/plain": [
              "churn_rate  is_canceled\n",
              "False       1              5703\n",
              "            0              3390\n",
              "True        1               698\n",
              "            0               276\n",
              "dtype: int64"
            ]
          },
          "metadata": {},
          "execution_count": 12
        }
      ]
    },
    {
      "cell_type": "code",
      "source": [
        "(bookings[['churn_rate', 'is_canceled']].value_counts() / bookings[['churn_rate']].value_counts()*100).round(2)"
      ],
      "metadata": {
        "colab": {
          "base_uri": "https://localhost:8080/"
        },
        "id": "ltjm3C8E3nVi",
        "outputId": "79cb6727-f0ae-4a66-e381-7f0e6e8ba56e"
      },
      "execution_count": 13,
      "outputs": [
        {
          "output_type": "execute_result",
          "data": {
            "text/plain": [
              "churn_rate  is_canceled\n",
              "False       1              62.72\n",
              "            0              37.28\n",
              "True        1              71.66\n",
              "            0              28.34\n",
              "dtype: float64"
            ]
          },
          "metadata": {},
          "execution_count": 13
        }
      ]
    },
    {
      "cell_type": "markdown",
      "source": [
        "Таким образом, соотношение людей отменивших свой заказ и имеющих детей - 72 %, что выше значения людей, которые отменили бронь и у которых отсуствовали дети в заказе на бронирование (на 11 )%. "
      ],
      "metadata": {
        "id": "Tnd0pS6JNA3Q"
      }
    }
  ]
}